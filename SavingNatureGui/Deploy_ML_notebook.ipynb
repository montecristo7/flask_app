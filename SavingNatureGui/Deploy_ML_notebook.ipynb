{
 "cells": [
  {
   "cell_type": "code",
   "execution_count": 18,
   "id": "16ed7d21-ac45-4c2f-8638-6ecd6c43354a",
   "metadata": {},
   "outputs": [],
   "source": [
    "from torchvision import models, transforms\n",
    "import torch.nn as nn\n",
    "import torch\n",
    "import os\n",
    "from skimage import io\n",
    "from pathlib import Path\n",
    "import dropbox\n",
    "import shutil"
   ]
  },
  {
   "cell_type": "code",
   "execution_count": 37,
   "id": "2f924226-b1f7-4ced-87a3-93defdcc2b4c",
   "metadata": {},
   "outputs": [],
   "source": [
    "def model_predict(model_name):\n",
    "    model_eval = models.resnet101(pretrained=True)\n",
    "    class_output = {\n",
    "    'binary': {'Ghost': 0, 'Animal': 1, 'Unknown': 2},\n",
    "    'class': {'Ghost': 0, 'Aves': 1, 'Mammalia': 2, 'Unknown': 3},\n",
    "    'species':{\n",
    "                'Ghost': 0,\n",
    "                'ArremonAurantiirostris': 1,\n",
    "                'Aves (Class)': 2,\n",
    "                'BosTaurus': 3,\n",
    "                'CaluromysPhilander': 4,\n",
    "                'CerdocyonThous': 5,\n",
    "                'CuniculusPaca': 6,\n",
    "                'Dasyprocta (Genus)': 7,\n",
    "                'DasypusNovemcinctus': 8,\n",
    "                'DidelphisAurita': 9,\n",
    "                'EiraBarbara': 10,\n",
    "                'Equus (Genus)': 11,\n",
    "                'Leopardus (Genus)': 12,\n",
    "                'LeptotilaPallida': 13,\n",
    "                'Mammalia (Class)': 14,\n",
    "                'MazamaAmericana': 15,\n",
    "                'Metachirus (Genus)': 16,\n",
    "                'Momota (Genus)': 17,\n",
    "                'Nasua (Genus)': 18,\n",
    "                'PecariTajacu': 19,\n",
    "                'ProcyonCancrivorus': 20,\n",
    "                'Rodentia (Order)': 21,\n",
    "                'Sciurus (Genus)': 22,\n",
    "                'SusScrofa': 23,\n",
    "                'TamanduaTetradactyla': 24,\n",
    "                'TinamusMajor': 25,\n",
    "                'Unknown': 26}\n",
    "}\n",
    "\n",
    "    model_map = class_output[model_name]\n",
    "    in_features =len(model_map)\n",
    "    reverse_model_map = {v: k for k, v in model_map.items()}\n",
    "    \n",
    "    using_gpu = torch.cuda.is_available()\n",
    "    if using_gpu:\n",
    "        print('Image Prediction Starts. Using GPU!')\n",
    "    else:\n",
    "        print('Image Prediction Starts. Using CPU!')\n",
    "    device = torch.device(\"cuda:0\" if using_gpu else \"cpu\")\n",
    "    \n",
    "    num_ftrs = model_eval.fc.in_features\n",
    "    model_eval.fc = nn.Linear(num_ftrs, in_features)\n",
    "\n",
    "    model_eval = model_eval.to(device)    \n",
    "    \n",
    "    model_full_name = sorted([i for i in os.listdir('./models/') if model_name.lower() in i.split('_')], reverse=True)[0]\n",
    "    \n",
    "    try:\n",
    "        model_eval.load_state_dict(torch.load(f'./models/{model_full_name}',  map_location=device))\n",
    "        print(f'Loading {model_full_name} pre-trained model')\n",
    "    except Exception as e:\n",
    "        print(f'cannot load model! {e}')\n",
    "        \n",
    "    regulated_size = 300, 450\n",
    "    default_val_transform = transforms.Compose([\n",
    "        transforms.ToPILImage(),\n",
    "        transforms.Resize(size=regulated_size),\n",
    "        transforms.ToTensor(),\n",
    "    ])\n",
    "    model_eval.eval()\n",
    "    softmax = torch.nn.Softmax(dim=1) \n",
    "    \n",
    "    # Dropbox API\n",
    "    access_token = \"IdSksADBFacAAAAAAAAAAcTAT5d77_SGkwjhmQcxC2BHo8ak0B1j_lGKiZqfH3cy\"\n",
    "    dbx = dropbox.Dropbox(access_token)\n",
    "    \n",
    "    img_dropbox = '/MIDS/Input_Data/'\n",
    "    img_dropbox_to = '/MIDS/Output_Data/'\n",
    "    \n",
    "    img_local = Path('cache/')\n",
    "    img_local.mkdir(exist_ok=True)\n",
    "    folder = dbx.files_list_folder(img_dropbox)\n",
    "    for file in folder.entries:\n",
    "        if file.name.lower().endswith('jpg'):\n",
    "            img_local_path = img_local / file.name\n",
    "            dbx.files_download_to_file(download_path=img_local_path, path=file.path_display)\n",
    "            tmp_img = io.imread(img_local_path)\n",
    "            tmp_img = default_val_transform(tmp_img)\n",
    "\n",
    "            with torch.no_grad():\n",
    "                inputs = tmp_img.to(device)\n",
    "                inputs = inputs.reshape(1, *inputs.shape)\n",
    "                outputs = model_eval(inputs)\n",
    "\n",
    "                prob = softmax(outputs)\n",
    "                pred_prob, pred_id = torch.max(prob, 1)\n",
    "                pred_id = pred_id.tolist()\n",
    "\n",
    "                pred_prob = pred_prob.tolist()[0]\n",
    "                pred_str = reverse_model_map[pred_id[0]]\n",
    "            print(f'Image Name: {file.name}; Predicted Class: {pred_str}; Predicted Probability:{pred_prob * 100:.2f}%')\n",
    "            dbx.files_copy_v2(from_path=file.path_display, to_path=f'{img_dropbox_to}{model_name}/{pred_str}/{file.name}', autorename=True)  \n",
    "            \n",
    "    shutil.rmtree(img_local)\n",
    "    print('Image Prediction Finished!')"
   ]
  },
  {
   "cell_type": "code",
   "execution_count": 38,
   "id": "76c0eaf5-f7c7-4dba-a1bc-b43f879547e8",
   "metadata": {},
   "outputs": [
    {
     "name": "stdout",
     "output_type": "stream",
     "text": [
      "Image Prediction Starts. Using CPU!\n",
      "Loading resnet101_class_20210416.pth pre-trained model\n",
      "Image Name: 000045_brazilAMLD_SSAMLD2_2_Aves_01_2019_03_24_12_14_02.jpg; Predicted Class: Aves; Predicted Probability:98.34%\n",
      "Image Name: 000036_brazilAMLD_SSAMLD2_2_Aves_01_2019_02_07_18_14_47.jpg; Predicted Class: Unknown; Predicted Probability:92.35%\n",
      "Image Prediction Finished!\n"
     ]
    }
   ],
   "source": [
    "model_predict('class')"
   ]
  },
  {
   "cell_type": "code",
   "execution_count": null,
   "id": "38396b9f-89e9-428f-9058-3ab2d918e885",
   "metadata": {},
   "outputs": [],
   "source": []
  },
  {
   "cell_type": "code",
   "execution_count": 2,
   "id": "72a10561-7452-4f27-a9b4-80d64a44203d",
   "metadata": {},
   "outputs": [],
   "source": [
    "model_name = 'species'"
   ]
  },
  {
   "cell_type": "code",
   "execution_count": 3,
   "id": "b9bc4c76-7416-4ad2-832f-faec3f5a0c9c",
   "metadata": {},
   "outputs": [],
   "source": [
    "model_eval = models.resnet101(pretrained=True)"
   ]
  },
  {
   "cell_type": "code",
   "execution_count": 4,
   "id": "e414f79c-6be0-4ba4-858c-efb014a95322",
   "metadata": {},
   "outputs": [],
   "source": [
    "class_output = {\n",
    "    'binary': {'Ghost': 0, 'Animal': 1, 'Unknown': 2},\n",
    "    'class': {'Ghost': 0, 'Aves': 1, 'Mammalia': 2, 'Unknown': 3},\n",
    "    'species':{\n",
    "                'Ghost': 0,\n",
    "                'ArremonAurantiirostris': 1,\n",
    "                'Aves (Class)': 2,\n",
    "                'BosTaurus': 3,\n",
    "                'CaluromysPhilander': 4,\n",
    "                'CerdocyonThous': 5,\n",
    "                'CuniculusPaca': 6,\n",
    "                'Dasyprocta (Genus)': 7,\n",
    "                'DasypusNovemcinctus': 8,\n",
    "                'DidelphisAurita': 9,\n",
    "                'EiraBarbara': 10,\n",
    "                'Equus (Genus)': 11,\n",
    "                'Leopardus (Genus)': 12,\n",
    "                'LeptotilaPallida': 13,\n",
    "                'Mammalia (Class)': 14,\n",
    "                'MazamaAmericana': 15,\n",
    "                'Metachirus (Genus)': 16,\n",
    "                'Momota (Genus)': 17,\n",
    "                'Nasua (Genus)': 18,\n",
    "                'PecariTajacu': 19,\n",
    "                'ProcyonCancrivorus': 20,\n",
    "                'Rodentia (Order)': 21,\n",
    "                'Sciurus (Genus)': 22,\n",
    "                'SusScrofa': 23,\n",
    "                'TamanduaTetradactyla': 24,\n",
    "                'TinamusMajor': 25,\n",
    "                'Unknown': 26}\n",
    "}"
   ]
  },
  {
   "cell_type": "code",
   "execution_count": 5,
   "id": "bfb68522-f220-4e16-8c6f-47b1ed55fa77",
   "metadata": {},
   "outputs": [],
   "source": [
    "model_map = class_output[model_name]\n",
    "in_features =len(model_map)\n",
    "reverse_model_map = {v: k for k, v in model_map.items()}"
   ]
  },
  {
   "cell_type": "code",
   "execution_count": 6,
   "id": "dc5c2284-4cb4-4770-b90b-845127b2f4c1",
   "metadata": {},
   "outputs": [
    {
     "name": "stdout",
     "output_type": "stream",
     "text": [
      "Using CPU!\n"
     ]
    }
   ],
   "source": [
    "using_gpu = torch.cuda.is_available()\n",
    "if using_gpu:\n",
    "    print('Using GPU!')\n",
    "else:\n",
    "    print('Using CPU!')\n",
    "device = torch.device(\"cuda:0\" if using_gpu else \"cpu\")"
   ]
  },
  {
   "cell_type": "code",
   "execution_count": 7,
   "id": "6b289736-6b53-4890-9e61-987ade606c1c",
   "metadata": {},
   "outputs": [],
   "source": [
    "num_ftrs = model_eval.fc.in_features\n",
    "model_eval.fc = nn.Linear(num_ftrs, in_features)\n",
    "\n",
    "model_eval = model_eval.to(device)"
   ]
  },
  {
   "cell_type": "code",
   "execution_count": 8,
   "id": "bb7384dd-4a38-48d8-a9a4-3aabd9c37462",
   "metadata": {},
   "outputs": [],
   "source": [
    "model_full_name = sorted([i for i in os.listdir('./models/') if model_name.lower() in i.split('_')], reverse=True)[0]"
   ]
  },
  {
   "cell_type": "code",
   "execution_count": 9,
   "id": "a91e2757-8c35-462e-8a46-f4675f6b33b3",
   "metadata": {},
   "outputs": [
    {
     "data": {
      "text/plain": [
       "'resnet101_species_20210419.pth'"
      ]
     },
     "execution_count": 9,
     "metadata": {},
     "output_type": "execute_result"
    }
   ],
   "source": [
    "model_full_name"
   ]
  },
  {
   "cell_type": "code",
   "execution_count": 10,
   "id": "b84c43bf-4141-40de-a9a0-b27a7d95b8dc",
   "metadata": {},
   "outputs": [
    {
     "name": "stdout",
     "output_type": "stream",
     "text": [
      "Loading resnet101_species_20210419.pth pre-trained model\n"
     ]
    }
   ],
   "source": [
    "try:\n",
    "    model_eval.load_state_dict(torch.load(f'./models/{model_full_name}',  map_location=device))\n",
    "    print(f'Loading {model_full_name} pre-trained model')\n",
    "except Exception as e:\n",
    "    print(f'cannot load model! {e}')"
   ]
  },
  {
   "cell_type": "code",
   "execution_count": 11,
   "id": "cb22236a-d36b-4fde-9015-09b5e274b794",
   "metadata": {},
   "outputs": [],
   "source": [
    "regulated_size = 300, 450\n",
    "default_val_transform = transforms.Compose([\n",
    "    transforms.ToPILImage(),\n",
    "    transforms.Resize(size=regulated_size),\n",
    "    transforms.ToTensor(),\n",
    "])\n",
    "model_eval.eval()\n",
    "softmax = torch.nn.Softmax(dim=1)"
   ]
  },
  {
   "cell_type": "code",
   "execution_count": 12,
   "id": "7c038e27-595d-40d5-8fb7-d7c76c361c9f",
   "metadata": {},
   "outputs": [],
   "source": [
    "# Dropbox API\n",
    "access_token = \"IdSksADBFacAAAAAAAAAAcTAT5d77_SGkwjhmQcxC2BHo8ak0B1j_lGKiZqfH3cy\"\n",
    "dbx = dropbox.Dropbox(access_token)"
   ]
  },
  {
   "cell_type": "code",
   "execution_count": 31,
   "id": "f1d34822-1228-4236-b6a1-0929bc914da5",
   "metadata": {},
   "outputs": [],
   "source": [
    "img_dropbox = '/MIDS/Input_Data/'\n",
    "img_dropbox_to = '/MIDS/Output_Data/'"
   ]
  },
  {
   "cell_type": "code",
   "execution_count": 34,
   "id": "dd5d7b61-2b6c-45db-8bb4-99b66d7641b6",
   "metadata": {},
   "outputs": [
    {
     "name": "stdout",
     "output_type": "stream",
     "text": [
      "Image Name: 000045_brazilAMLD_SSAMLD2_2_Aves_01_2019_03_24_12_14_02.jpg; Predicted Class: Aves (Class); Predicted Probability:99.88%\n",
      "Image Name: 000036_brazilAMLD_SSAMLD2_2_Aves_01_2019_02_07_18_14_47.jpg; Predicted Class: Unknown; Predicted Probability:66.94%\n"
     ]
    }
   ],
   "source": [
    "img_local = Path('cache/')\n",
    "img_local.mkdir(exist_ok=True)\n",
    "folder = dbx.files_list_folder(img_dropbox)\n",
    "for file in folder.entries:\n",
    "    if file.name.lower().endswith('jpg'):\n",
    "        img_local_path = img_local / file.name\n",
    "        dbx.files_download_to_file(download_path=img_local_path, path=file.path_display)\n",
    "        tmp_img = io.imread(img_local_path)\n",
    "        tmp_img = default_val_transform(tmp_img)\n",
    "        \n",
    "        with torch.no_grad():\n",
    "            inputs = tmp_img.to(device)\n",
    "            inputs = inputs.reshape(1, *inputs.shape)\n",
    "            outputs = model_eval(inputs)\n",
    "\n",
    "            prob = softmax(outputs)\n",
    "            pred_prob, pred_id = torch.max(prob, 1)\n",
    "            pred_id = pred_id.tolist()\n",
    "\n",
    "            pred_prob = pred_prob.tolist()[0]\n",
    "            pred_str = reverse_model_map[pred_id[0]]\n",
    "        print(f'Image Name: {file.name}; Predicted Class: {pred_str}; Predicted Probability:{pred_prob * 100:.2f}%')\n",
    "        dbx.files_copy_v2(from_path=file.path_display, to_path=f'{img_dropbox_to}{model_name}/{pred_str}/{file.name}', autorename=True)"
   ]
  },
  {
   "cell_type": "code",
   "execution_count": 22,
   "id": "3798299e-27cf-4e33-bca0-9081d6f3c7ff",
   "metadata": {},
   "outputs": [],
   "source": [
    "shutil.rmtree(img_local)"
   ]
  },
  {
   "cell_type": "code",
   "execution_count": null,
   "id": "fd665b5b-ff9e-4196-b5b1-bab85975fd8b",
   "metadata": {},
   "outputs": [],
   "source": []
  }
 ],
 "metadata": {
  "kernelspec": {
   "display_name": "Python 3",
   "language": "python",
   "name": "python3"
  },
  "language_info": {
   "codemirror_mode": {
    "name": "ipython",
    "version": 3
   },
   "file_extension": ".py",
   "mimetype": "text/x-python",
   "name": "python",
   "nbconvert_exporter": "python",
   "pygments_lexer": "ipython3",
   "version": "3.8.8"
  }
 },
 "nbformat": 4,
 "nbformat_minor": 5
}
