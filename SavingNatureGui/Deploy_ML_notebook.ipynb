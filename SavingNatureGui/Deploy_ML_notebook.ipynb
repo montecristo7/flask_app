{
 "cells": [
  {
   "cell_type": "code",
   "execution_count": 50,
   "id": "16ed7d21-ac45-4c2f-8638-6ecd6c43354a",
   "metadata": {},
   "outputs": [],
   "source": [
    "from torchvision import models, transforms\n",
    "import torch.nn as nn\n",
    "import torch\n",
    "import os\n",
    "from skimage import io\n",
    "from pathlib import Path"
   ]
  },
  {
   "cell_type": "code",
   "execution_count": 153,
   "id": "72a10561-7452-4f27-a9b4-80d64a44203d",
   "metadata": {},
   "outputs": [],
   "source": [
    "model_name = 'class'"
   ]
  },
  {
   "cell_type": "code",
   "execution_count": 154,
   "id": "b9bc4c76-7416-4ad2-832f-faec3f5a0c9c",
   "metadata": {},
   "outputs": [],
   "source": [
    "model_eval = models.resnet101(pretrained=True)"
   ]
  },
  {
   "cell_type": "code",
   "execution_count": 155,
   "id": "e414f79c-6be0-4ba4-858c-efb014a95322",
   "metadata": {},
   "outputs": [],
   "source": [
    "class_output = {\n",
    "    'binary': {'Ghost': 0, 'Animal': 1, 'Unknown': 2},\n",
    "    'class': {'Ghost': 0, 'Aves': 1, 'Mammalia': 2, 'Unknown': 3},\n",
    "    'species':{\n",
    "                'Ghost': 0,\n",
    "                'ArremonAurantiirostris': 1,\n",
    "                'Aves (Class)': 2,\n",
    "                'BosTaurus': 3,\n",
    "                'CaluromysPhilander': 4,\n",
    "                'CerdocyonThous': 5,\n",
    "                'CuniculusPaca': 6,\n",
    "                'Dasyprocta (Genus)': 7,\n",
    "                'DasypusNovemcinctus': 8,\n",
    "                'DidelphisAurita': 9,\n",
    "                'EiraBarbara': 10,\n",
    "                'Equus (Genus)': 11,\n",
    "                'Leopardus (Genus)': 12,\n",
    "                'LeptotilaPallida': 13,\n",
    "                'Mammalia (Class)': 14,\n",
    "                'MazamaAmericana': 15,\n",
    "                'Metachirus (Genus)': 16,\n",
    "                'Momota (Genus)': 17,\n",
    "                'Nasua (Genus)': 18,\n",
    "                'PecariTajacu': 19,\n",
    "                'ProcyonCancrivorus': 20,\n",
    "                'Rodentia (Order)': 21,\n",
    "                'Sciurus (Genus)': 22,\n",
    "                'SusScrofa': 23,\n",
    "                'TamanduaTetradactyla': 24,\n",
    "                'TinamusMajor': 25,\n",
    "                'Unknown': 26}\n",
    "}"
   ]
  },
  {
   "cell_type": "code",
   "execution_count": 156,
   "id": "bfb68522-f220-4e16-8c6f-47b1ed55fa77",
   "metadata": {},
   "outputs": [],
   "source": [
    "model_map = class_output[model_name]\n",
    "in_features =len(model_map)\n",
    "reverse_model_map = {v: k for k, v in model_map.items()}"
   ]
  },
  {
   "cell_type": "code",
   "execution_count": 157,
   "id": "dc5c2284-4cb4-4770-b90b-845127b2f4c1",
   "metadata": {},
   "outputs": [
    {
     "name": "stdout",
     "output_type": "stream",
     "text": [
      "Using CPU!\n"
     ]
    }
   ],
   "source": [
    "using_gpu = torch.cuda.is_available()\n",
    "if using_gpu:\n",
    "    print('Using GPU!')\n",
    "else:\n",
    "    print('Using CPU!')\n",
    "device = torch.device(\"cuda:0\" if using_gpu else \"cpu\")"
   ]
  },
  {
   "cell_type": "code",
   "execution_count": 158,
   "id": "6b289736-6b53-4890-9e61-987ade606c1c",
   "metadata": {},
   "outputs": [],
   "source": [
    "num_ftrs = model_eval.fc.in_features\n",
    "model_eval.fc = nn.Linear(num_ftrs, in_features)\n",
    "\n",
    "model_eval = model_eval.to(device)"
   ]
  },
  {
   "cell_type": "code",
   "execution_count": 159,
   "id": "bb7384dd-4a38-48d8-a9a4-3aabd9c37462",
   "metadata": {},
   "outputs": [],
   "source": [
    "model_full_name = sorted([i for i in os.listdir('./models/') if model_name.lower() in i.split('_')], reverse=True)[0]"
   ]
  },
  {
   "cell_type": "code",
   "execution_count": 160,
   "id": "a91e2757-8c35-462e-8a46-f4675f6b33b3",
   "metadata": {},
   "outputs": [
    {
     "data": {
      "text/plain": [
       "'resnet101_class_20210416.pth'"
      ]
     },
     "execution_count": 160,
     "metadata": {},
     "output_type": "execute_result"
    }
   ],
   "source": [
    "model_full_name"
   ]
  },
  {
   "cell_type": "code",
   "execution_count": 161,
   "id": "b84c43bf-4141-40de-a9a0-b27a7d95b8dc",
   "metadata": {},
   "outputs": [
    {
     "name": "stdout",
     "output_type": "stream",
     "text": [
      "Loading resnet101_class_20210416.pth pre-trained model\n"
     ]
    }
   ],
   "source": [
    "try:\n",
    "    model_eval.load_state_dict(torch.load(f'./models/{model_full_name}',  map_location=device))\n",
    "    print(f'Loading {model_full_name} pre-trained model')\n",
    "except Exception as e:\n",
    "    print(f'cannot load model! {e}')"
   ]
  },
  {
   "cell_type": "code",
   "execution_count": 162,
   "id": "cb22236a-d36b-4fde-9015-09b5e274b794",
   "metadata": {},
   "outputs": [],
   "source": [
    "regulated_size = 300, 450\n",
    "default_val_transform = transforms.Compose([\n",
    "    transforms.ToPILImage(),\n",
    "    transforms.Resize(size=regulated_size),\n",
    "    transforms.ToTensor(),\n",
    "])\n"
   ]
  },
  {
   "cell_type": "code",
   "execution_count": 170,
   "id": "62199737-3fa6-481b-8c23-5e71c9682ece",
   "metadata": {},
   "outputs": [],
   "source": [
    "## TODO\n",
    "img_root_path = Path('tmp_images')\n",
    "imgs = sorted([i for i in os.listdir(img_root_path) if i.lower().endswith('jpg')])\n",
    "\n",
    "for i in imgs:\n",
    "    tmp_img = io.imread(img_root_path / i)"
   ]
  },
  {
   "cell_type": "code",
   "execution_count": 166,
   "id": "3a7c7a4f-e27d-4b09-8c4d-b8d2c462f669",
   "metadata": {},
   "outputs": [],
   "source": [
    "tmp_img = default_val_transform(tmp_img)"
   ]
  },
  {
   "cell_type": "code",
   "execution_count": 167,
   "id": "a205599e-a7e8-4a5c-8483-5e2f2699ac34",
   "metadata": {},
   "outputs": [],
   "source": [
    "model_eval.eval()\n",
    "softmax = torch.nn.Softmax(dim=1)\n",
    "with torch.no_grad():\n",
    "    inputs = tmp_img.to(device)\n",
    "    inputs = inputs.reshape(1, *inputs.shape)\n",
    "    outputs = model_eval(inputs)\n",
    "    \n",
    "    prob = softmax(outputs)\n",
    "    pred_prob, pred_id = torch.max(prob, 1)\n",
    "    pred_id = pred_id.tolist()\n",
    "    \n",
    "    pred_prob = pred_prob.tolist()[0]\n",
    "    pred_str = reverse_model_map[pred_id[0]]"
   ]
  },
  {
   "cell_type": "code",
   "execution_count": 168,
   "id": "c854e6ad-241c-4b2c-8e70-33f59a7b78be",
   "metadata": {},
   "outputs": [
    {
     "data": {
      "text/plain": [
       "1.0"
      ]
     },
     "execution_count": 168,
     "metadata": {},
     "output_type": "execute_result"
    }
   ],
   "source": [
    "pred_prob"
   ]
  },
  {
   "cell_type": "code",
   "execution_count": 169,
   "id": "b0811fe6-d46c-4bec-abec-314f179fc94f",
   "metadata": {},
   "outputs": [
    {
     "data": {
      "text/plain": [
       "'Mammalia'"
      ]
     },
     "execution_count": 169,
     "metadata": {},
     "output_type": "execute_result"
    }
   ],
   "source": [
    "pred_str"
   ]
  },
  {
   "cell_type": "code",
   "execution_count": null,
   "id": "ca7e96cb-d7ac-4f81-9c9d-7f2188c48059",
   "metadata": {},
   "outputs": [],
   "source": []
  }
 ],
 "metadata": {
  "kernelspec": {
   "display_name": "Python 3",
   "language": "python",
   "name": "python3"
  },
  "language_info": {
   "codemirror_mode": {
    "name": "ipython",
    "version": 3
   },
   "file_extension": ".py",
   "mimetype": "text/x-python",
   "name": "python",
   "nbconvert_exporter": "python",
   "pygments_lexer": "ipython3",
   "version": "3.8.8"
  }
 },
 "nbformat": 4,
 "nbformat_minor": 5
}
